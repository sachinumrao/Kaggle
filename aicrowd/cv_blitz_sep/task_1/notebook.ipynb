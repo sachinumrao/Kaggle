{
 "cells": [
  {
   "cell_type": "code",
   "execution_count": 46,
   "id": "1d971785-b5ae-4018-9879-82f68291d342",
   "metadata": {},
   "outputs": [],
   "source": [
    "import numpy as np\n",
    "import pandas as pd\n",
    "from sklearn.preprocessing import StandardScaler\n",
    "from sklearn.model_selection import train_test_split\n",
    "from sklearn.metrics import roc_auc_score, f1_score, roc_curve\n",
    "import matplotlib.pyplot as plt\n",
    "%matplotlib inline"
   ]
  },
  {
   "cell_type": "code",
   "execution_count": 2,
   "id": "e5e166c4-8ef2-4ac6-a424-4e64e92886f6",
   "metadata": {},
   "outputs": [
    {
     "name": "stdout",
     "output_type": "stream",
     "text": [
      "Init Plugin\n",
      "Init Graph Optimizer\n",
      "Init Kernel\n"
     ]
    }
   ],
   "source": [
    "import tensorflow as tf\n",
    "from tensorflow.keras.models import Sequential \n",
    "from tensorflow.keras.layers import Dense, Activation, LeakyReLU"
   ]
  },
  {
   "cell_type": "code",
   "execution_count": 87,
   "id": "dde7f1c7-9d2e-4120-b7b3-83c4734247b9",
   "metadata": {},
   "outputs": [],
   "source": [
    "from lightgbm import LGBMClassifier"
   ]
  },
  {
   "cell_type": "code",
   "execution_count": 3,
   "id": "c5841527-a24e-451e-aae1-2bbdc09ac4f3",
   "metadata": {},
   "outputs": [],
   "source": [
    "fname = \"./../data.npz\""
   ]
  },
  {
   "cell_type": "code",
   "execution_count": 4,
   "id": "1f40eb22-3439-4fdf-8e5b-46cb2657854e",
   "metadata": {},
   "outputs": [],
   "source": [
    "data = np.load(fname, allow_pickle=True)"
   ]
  },
  {
   "cell_type": "code",
   "execution_count": 5,
   "id": "41702838-2c28-45ce-8957-5c8279e92bfe",
   "metadata": {},
   "outputs": [],
   "source": [
    "train_data = data[\"train\"]"
   ]
  },
  {
   "cell_type": "code",
   "execution_count": 6,
   "id": "ef12035f-5448-4f4e-858d-dadc9c4a5208",
   "metadata": {},
   "outputs": [],
   "source": [
    "test_data = data[\"test\"]"
   ]
  },
  {
   "cell_type": "code",
   "execution_count": 7,
   "id": "c81b775b-b8bf-4091-8205-8c1a7e543c1f",
   "metadata": {},
   "outputs": [],
   "source": [
    "x_train = train_data[:, 0]\n",
    "y_train = train_data[:, 1]"
   ]
  },
  {
   "cell_type": "code",
   "execution_count": 8,
   "id": "7067242d-1d64-48fb-98d8-d56fb414f6da",
   "metadata": {},
   "outputs": [],
   "source": [
    "x_data = []\n",
    "for i in range(x_train.shape[0]):\n",
    "    x = x_train[i]\n",
    "    x = x.flatten()\n",
    "    x_data.append(x)"
   ]
  },
  {
   "cell_type": "code",
   "execution_count": 9,
   "id": "bbd996f8-58c5-4020-a18c-8adc94824abd",
   "metadata": {},
   "outputs": [],
   "source": [
    "x_data = np.array(x_data)"
   ]
  },
  {
   "cell_type": "code",
   "execution_count": 10,
   "id": "afdd35f0-9136-4073-bd09-3641a805a18f",
   "metadata": {},
   "outputs": [
    {
     "data": {
      "text/plain": [
       "(5000, 1200)"
      ]
     },
     "execution_count": 10,
     "metadata": {},
     "output_type": "execute_result"
    }
   ],
   "source": [
    "x_data.shape"
   ]
  },
  {
   "cell_type": "code",
   "execution_count": 11,
   "id": "bba22ac4-4afc-486c-a2b8-8d9119137b46",
   "metadata": {},
   "outputs": [],
   "source": [
    "x_data = np.asarray(x_data).astype('float32')"
   ]
  },
  {
   "cell_type": "code",
   "execution_count": 12,
   "id": "ca9d6be0-c00c-49e9-9a1d-1532ef7d1ad6",
   "metadata": {},
   "outputs": [],
   "source": [
    "y_train = np.asarray(y_train).astype('float32')"
   ]
  },
  {
   "cell_type": "markdown",
   "id": "32c9c80b-b519-48e8-8ab7-f5ab493466b3",
   "metadata": {},
   "source": [
    "## Train Test Split"
   ]
  },
  {
   "cell_type": "code",
   "execution_count": 13,
   "id": "d4b0e931-7422-4fe4-83a4-a8eea23d5a20",
   "metadata": {},
   "outputs": [],
   "source": [
    "x_tr, x_val, y_tr, y_val = train_test_split(x_data, y_train, test_size=0.2, stratify=y_train, random_state=99)"
   ]
  },
  {
   "cell_type": "code",
   "execution_count": 14,
   "id": "4e68a454-bcb0-4a03-8c08-1a092fb33a14",
   "metadata": {},
   "outputs": [
    {
     "data": {
      "text/plain": [
       "(4000, 1200)"
      ]
     },
     "execution_count": 14,
     "metadata": {},
     "output_type": "execute_result"
    }
   ],
   "source": [
    "x_tr.shape"
   ]
  },
  {
   "cell_type": "code",
   "execution_count": 15,
   "id": "5697abb0-1ba8-445d-9a9d-2be9e3f7eedb",
   "metadata": {},
   "outputs": [
    {
     "data": {
      "text/plain": [
       "(1000, 1200)"
      ]
     },
     "execution_count": 15,
     "metadata": {},
     "output_type": "execute_result"
    }
   ],
   "source": [
    "x_val.shape"
   ]
  },
  {
   "cell_type": "markdown",
   "id": "38a1bf62-1636-4efa-a59c-f3a55786bb33",
   "metadata": {},
   "source": [
    "## Scale data"
   ]
  },
  {
   "cell_type": "code",
   "execution_count": 20,
   "id": "00b012c3-5e23-4572-b5cb-f6904a01db04",
   "metadata": {},
   "outputs": [],
   "source": [
    "scaler = StandardScaler()"
   ]
  },
  {
   "cell_type": "code",
   "execution_count": 21,
   "id": "a7d21f78-5dc9-4d48-becf-cdc510061a6f",
   "metadata": {},
   "outputs": [
    {
     "data": {
      "text/plain": [
       "StandardScaler()"
      ]
     },
     "execution_count": 21,
     "metadata": {},
     "output_type": "execute_result"
    }
   ],
   "source": [
    "scaler.fit(x_tr)"
   ]
  },
  {
   "cell_type": "code",
   "execution_count": 22,
   "id": "d7f5c507-6056-4de9-8934-233b50995cff",
   "metadata": {},
   "outputs": [],
   "source": [
    "x_tr = scaler.transform(x_tr)"
   ]
  },
  {
   "cell_type": "code",
   "execution_count": 23,
   "id": "aadf360d-ac1d-471b-86e2-31890d305e4c",
   "metadata": {},
   "outputs": [],
   "source": [
    "x_val = scaler.transform(x_val)"
   ]
  },
  {
   "cell_type": "markdown",
   "id": "20916ff9-f283-4af1-8bed-1798eabb3dae",
   "metadata": {},
   "source": [
    "## Build Simple NN Model"
   ]
  },
  {
   "cell_type": "code",
   "execution_count": 78,
   "id": "304ea64a-258d-4c33-abe7-af03e17c379a",
   "metadata": {},
   "outputs": [],
   "source": [
    "input_size = 1200\n",
    "hidden1 = 64\n",
    "hidden2 = 32\n",
    "classes = 1"
   ]
  },
  {
   "cell_type": "code",
   "execution_count": 79,
   "id": "e7f4e878-93d2-46fb-b7ac-d560a50deb0a",
   "metadata": {},
   "outputs": [],
   "source": [
    "model = Sequential()     \n",
    "model.add(Dense(hidden1, input_dim=input_size))\n",
    "model.add(LeakyReLU(alpha=0.05))\n",
    "model.add(Dense(hidden2))\n",
    "model.add(LeakyReLU(alpha=0.05))\n",
    "model.add(Dense(classes, activation='sigmoid'))"
   ]
  },
  {
   "cell_type": "code",
   "execution_count": 80,
   "id": "63257202-06cd-43f4-9100-d5c2d6d8eb13",
   "metadata": {},
   "outputs": [],
   "source": [
    "# Compilation\n",
    "model.compile(loss=tf.keras.losses.BinaryCrossentropy(from_logits=False), \n",
    "              metrics=['accuracy'], \n",
    "              optimizer='adam')"
   ]
  },
  {
   "cell_type": "code",
   "execution_count": 81,
   "id": "15058d79-9e14-49de-8185-f234160a2ab5",
   "metadata": {},
   "outputs": [
    {
     "name": "stdout",
     "output_type": "stream",
     "text": [
      "Model: \"sequential_4\"\n",
      "_________________________________________________________________\n",
      "Layer (type)                 Output Shape              Param #   \n",
      "=================================================================\n",
      "dense_12 (Dense)             (None, 64)                76864     \n",
      "_________________________________________________________________\n",
      "leaky_re_lu_8 (LeakyReLU)    (None, 64)                0         \n",
      "_________________________________________________________________\n",
      "dense_13 (Dense)             (None, 32)                2080      \n",
      "_________________________________________________________________\n",
      "leaky_re_lu_9 (LeakyReLU)    (None, 32)                0         \n",
      "_________________________________________________________________\n",
      "dense_14 (Dense)             (None, 1)                 33        \n",
      "=================================================================\n",
      "Total params: 78,977\n",
      "Trainable params: 78,977\n",
      "Non-trainable params: 0\n",
      "_________________________________________________________________\n"
     ]
    }
   ],
   "source": [
    "model.summary()"
   ]
  },
  {
   "cell_type": "code",
   "execution_count": 82,
   "id": "6ba2a282-1fa5-4ea0-9642-514bdbb5c94c",
   "metadata": {},
   "outputs": [],
   "source": [
    "batch_size = 32\n",
    "epch = 20"
   ]
  },
  {
   "cell_type": "code",
   "execution_count": 83,
   "id": "0f61626e-fd76-4731-89e0-73015815e55c",
   "metadata": {},
   "outputs": [
    {
     "name": "stdout",
     "output_type": "stream",
     "text": [
      "Epoch 1/20\n",
      " 13/157 [=>............................] - ETA: 0s - loss: 0.3103 - accuracy: 0.8534 "
     ]
    },
    {
     "name": "stderr",
     "output_type": "stream",
     "text": [
      "2021-09-04 04:32:51.227241: I tensorflow/core/grappler/optimizers/custom_graph_optimizer_registry.cc:112] Plugin optimizer for device_type GPU is enabled.\n"
     ]
    },
    {
     "name": "stdout",
     "output_type": "stream",
     "text": [
      "157/157 [==============================] - 1s 5ms/step - loss: 0.1062 - accuracy: 0.9656 - val_loss: 0.0822 - val_accuracy: 0.9740\n",
      "Epoch 2/20\n",
      " 12/157 [=>............................] - ETA: 0s - loss: 0.1205 - accuracy: 0.9714"
     ]
    },
    {
     "name": "stderr",
     "output_type": "stream",
     "text": [
      "2021-09-04 04:32:52.065560: I tensorflow/core/grappler/optimizers/custom_graph_optimizer_registry.cc:112] Plugin optimizer for device_type GPU is enabled.\n"
     ]
    },
    {
     "name": "stdout",
     "output_type": "stream",
     "text": [
      "157/157 [==============================] - 1s 5ms/step - loss: 0.0754 - accuracy: 0.9802 - val_loss: 0.0993 - val_accuracy: 0.9620\n",
      "Epoch 3/20\n",
      "157/157 [==============================] - 1s 5ms/step - loss: 0.0704 - accuracy: 0.9794 - val_loss: 0.1061 - val_accuracy: 0.9610\n",
      "Epoch 4/20\n",
      "157/157 [==============================] - 1s 5ms/step - loss: 0.0676 - accuracy: 0.9796 - val_loss: 0.1105 - val_accuracy: 0.9600\n",
      "Epoch 5/20\n",
      "157/157 [==============================] - 1s 5ms/step - loss: 0.0619 - accuracy: 0.9824 - val_loss: 0.1979 - val_accuracy: 0.9400\n",
      "Epoch 6/20\n",
      "157/157 [==============================] - 1s 5ms/step - loss: 0.0608 - accuracy: 0.9832 - val_loss: 0.1976 - val_accuracy: 0.9440\n",
      "Epoch 7/20\n",
      "157/157 [==============================] - 1s 5ms/step - loss: 0.0639 - accuracy: 0.9824 - val_loss: 0.9604 - val_accuracy: 0.8920\n",
      "Epoch 8/20\n",
      "157/157 [==============================] - 1s 5ms/step - loss: 0.0615 - accuracy: 0.9830 - val_loss: 0.1555 - val_accuracy: 0.9510\n",
      "Epoch 9/20\n",
      "157/157 [==============================] - 1s 5ms/step - loss: 0.0722 - accuracy: 0.9788 - val_loss: 0.7984 - val_accuracy: 0.9020\n",
      "Epoch 10/20\n",
      "157/157 [==============================] - 1s 5ms/step - loss: 0.0600 - accuracy: 0.9824 - val_loss: 0.3626 - val_accuracy: 0.9020\n",
      "Epoch 11/20\n",
      "157/157 [==============================] - 1s 5ms/step - loss: 0.0558 - accuracy: 0.9848 - val_loss: 0.3847 - val_accuracy: 0.8890\n",
      "Epoch 12/20\n",
      "157/157 [==============================] - 1s 5ms/step - loss: 0.0545 - accuracy: 0.9866 - val_loss: 0.2798 - val_accuracy: 0.9280\n",
      "Epoch 13/20\n",
      "157/157 [==============================] - 1s 5ms/step - loss: 0.0535 - accuracy: 0.9858 - val_loss: 0.2391 - val_accuracy: 0.9490\n",
      "Epoch 14/20\n",
      "157/157 [==============================] - 1s 5ms/step - loss: 0.0513 - accuracy: 0.9854 - val_loss: 0.3172 - val_accuracy: 0.9370\n",
      "Epoch 15/20\n",
      "157/157 [==============================] - 1s 5ms/step - loss: 0.0523 - accuracy: 0.9836 - val_loss: 0.3473 - val_accuracy: 0.9230\n",
      "Epoch 16/20\n",
      "157/157 [==============================] - 1s 5ms/step - loss: 0.0491 - accuracy: 0.9868 - val_loss: 0.3713 - val_accuracy: 0.9220\n",
      "Epoch 17/20\n",
      "157/157 [==============================] - 1s 5ms/step - loss: 0.0515 - accuracy: 0.9870 - val_loss: 0.3826 - val_accuracy: 0.9320\n",
      "Epoch 18/20\n",
      "157/157 [==============================] - 1s 5ms/step - loss: 0.0530 - accuracy: 0.9842 - val_loss: 0.4197 - val_accuracy: 0.9170\n",
      "Epoch 19/20\n",
      "157/157 [==============================] - 1s 5ms/step - loss: 0.0504 - accuracy: 0.9852 - val_loss: 0.3957 - val_accuracy: 0.9220\n",
      "Epoch 20/20\n",
      "157/157 [==============================] - 1s 5ms/step - loss: 0.0530 - accuracy: 0.9856 - val_loss: 0.4557 - val_accuracy: 0.9150\n"
     ]
    }
   ],
   "source": [
    "history = model.fit(x_data, y_train, \n",
    "                    validation_data=(x_val, y_val),\n",
    "                    batch_size=batch_size,\n",
    "                    epochs=epch,\n",
    "                    verbose=1)"
   ]
  },
  {
   "cell_type": "code",
   "execution_count": 84,
   "id": "14e17eb1-edd0-457c-8d0f-4ba2122802aa",
   "metadata": {},
   "outputs": [],
   "source": [
    "pdf = pd.DataFrame.from_dict(history.history)"
   ]
  },
  {
   "cell_type": "code",
   "execution_count": 85,
   "id": "509b0fc1-52e0-4893-8752-7f32183e7c1d",
   "metadata": {},
   "outputs": [
    {
     "data": {
      "image/png": "[encoded data removed]",
      "text/plain": [
       "<Figure size 432x288 with 1 Axes>"
      ]
     },
     "metadata": {
      "needs_background": "light"
     },
     "output_type": "display_data"
    }
   ],
   "source": [
    "plt.plot(pdf[\"loss\"], label=\"train_loss\")\n",
    "plt.plot(pdf[\"val_loss\"], label=\"val_loss\")\n",
    "plt.legend()\n",
    "plt.show()"
   ]
  },
  {
   "cell_type": "code",
   "execution_count": 86,
   "id": "92db62e6-ca6b-4a1c-bdee-55fa08c8a9ff",
   "metadata": {},
   "outputs": [
    {
     "data": {
      "image/png": "[encoded data removed]",
      "text/plain": [
       "<Figure size 432x288 with 1 Axes>"
      ]
     },
     "metadata": {
      "needs_background": "light"
     },
     "output_type": "display_data"
    }
   ],
   "source": [
    "plt.plot(pdf[\"accuracy\"], label=\"train_accuracy\")\n",
    "plt.plot(pdf[\"val_accuracy\"], label=\"val_accuracy\")\n",
    "plt.legend()\n",
    "plt.show()\n"
   ]
  },
  {
   "cell_type": "code",
   "execution_count": 41,
   "id": "fc221a4c-53f6-4ecb-b7cb-f4eceb5104ec",
   "metadata": {},
   "outputs": [
    {
     "name": "stderr",
     "output_type": "stream",
     "text": [
      "2021-09-04 04:01:28.361597: I tensorflow/core/grappler/optimizers/custom_graph_optimizer_registry.cc:112] Plugin optimizer for device_type GPU is enabled.\n"
     ]
    }
   ],
   "source": [
    "y_val_pred = model.predict(x_val)"
   ]
  },
  {
   "cell_type": "code",
   "execution_count": 43,
   "id": "5ae3733d-005f-4636-8858-dd6b3de0ddc5",
   "metadata": {},
   "outputs": [
    {
     "data": {
      "text/plain": [
       "0.8002142857142857"
      ]
     },
     "execution_count": 43,
     "metadata": {},
     "output_type": "execute_result"
    }
   ],
   "source": [
    "roc_auc_score(y_val, y_val_pred)"
   ]
  },
  {
   "cell_type": "code",
   "execution_count": 50,
   "id": "052137db-5838-451f-aeb8-8cacc87f8431",
   "metadata": {},
   "outputs": [
    {
     "data": {
      "image/png": "[encoded data removed]",
      "text/plain": [
       "<Figure size 432x288 with 1 Axes>"
      ]
     },
     "metadata": {
      "needs_background": "light"
     },
     "output_type": "display_data"
    }
   ],
   "source": [
    "fpr, tpr, thresholds = roc_curve(y_val, y_val_pred)\n",
    "plt.plot(fpr, tpr)\n",
    "plt.show()"
   ]
  },
  {
   "cell_type": "code",
   "execution_count": 51,
   "id": "2fe26a37-6ac7-4d58-9fdf-7be90087fb1e",
   "metadata": {},
   "outputs": [],
   "source": [
    "y_val_out = np.where(y_val_pred > 0.5, 1, 0)"
   ]
  },
  {
   "cell_type": "code",
   "execution_count": 52,
   "id": "59758afb-460e-4f8b-90b7-b3eec0ee57b3",
   "metadata": {},
   "outputs": [
    {
     "data": {
      "text/plain": [
       "0.7781456953642384"
      ]
     },
     "execution_count": 52,
     "metadata": {},
     "output_type": "execute_result"
    }
   ],
   "source": [
    "f1_score(y_val, y_val_out)"
   ]
  },
  {
   "cell_type": "code",
   "execution_count": null,
   "id": "c64c3fc1-ff7f-412c-9678-131545e8aedb",
   "metadata": {},
   "outputs": [],
   "source": []
  },
  {
   "cell_type": "markdown",
   "id": "a1719c91-66ce-4df8-9b89-f695667f7e8b",
   "metadata": {},
   "source": [
    "## Build Lightgbm model"
   ]
  },
  {
   "cell_type": "code",
   "execution_count": 90,
   "id": "f864aa58-6dab-4707-bc9f-cf4e7f895bf8",
   "metadata": {},
   "outputs": [],
   "source": [
    "x_tr_lgb, x_val_lgb, y_tr_lgb, y_val_lgb = train_test_split(x_data, y_train, test_size=0.2, stratify=y_train, random_state=99)"
   ]
  },
  {
   "cell_type": "code",
   "execution_count": 89,
   "id": "1122f0a2-e5d1-4227-998e-d29857ca1091",
   "metadata": {},
   "outputs": [],
   "source": [
    "lgb_model = LGBMClassifier(learning_rate=0.01, n_estimators=300, reg_alpha=1.0, reg_lambda=0.5, random_state=99)"
   ]
  },
  {
   "cell_type": "code",
   "execution_count": 91,
   "id": "860202bc-cd54-4c06-8c67-f6c97c6ddfef",
   "metadata": {},
   "outputs": [
    {
     "data": {
      "text/plain": [
       "LGBMClassifier(learning_rate=0.01, n_estimators=300, random_state=99,\n",
       "               reg_alpha=1.0, reg_lambda=0.5)"
      ]
     },
     "execution_count": 91,
     "metadata": {},
     "output_type": "execute_result"
    }
   ],
   "source": [
    "lgb_model.fit(x_tr_lgb, y_tr_lgb)"
   ]
  },
  {
   "cell_type": "code",
   "execution_count": 92,
   "id": "6013dce2-ff88-4246-bf82-526ae22c7af8",
   "metadata": {},
   "outputs": [],
   "source": [
    "y_val_lgb_pred = lgb_model.predict(x_val_lgb)"
   ]
  },
  {
   "cell_type": "code",
   "execution_count": 93,
   "id": "abb34b40-fa3e-425c-ab14-af6d02d49aaa",
   "metadata": {},
   "outputs": [
    {
     "data": {
      "text/plain": [
       "0.9745238095238095"
      ]
     },
     "execution_count": 93,
     "metadata": {},
     "output_type": "execute_result"
    }
   ],
   "source": [
    "roc_auc_score(y_val, y_val_lgb_pred)"
   ]
  },
  {
   "cell_type": "code",
   "execution_count": 94,
   "id": "0e99e25b-61d3-47dd-a213-e6a4dfd6b66a",
   "metadata": {},
   "outputs": [
    {
     "data": {
      "image/png": "[encoded data removed]",
      "text/plain": [
       "<Figure size 432x288 with 1 Axes>"
      ]
     },
     "metadata": {
      "needs_background": "light"
     },
     "output_type": "display_data"
    }
   ],
   "source": [
    "fpr, tpr, thresholds = roc_curve(y_val, y_val_lgb_pred)\n",
    "plt.plot(fpr, tpr)\n",
    "plt.show()"
   ]
  },
  {
   "cell_type": "code",
   "execution_count": 95,
   "id": "08ce4b98-39d3-4e0e-8430-01d0e42e56ba",
   "metadata": {},
   "outputs": [],
   "source": [
    "y_val_lgb_out = np.where(y_val_lgb_pred > 0.5, 1, 0)"
   ]
  },
  {
   "cell_type": "code",
   "execution_count": 96,
   "id": "e409a397-4ea2-4501-a50f-bb33bd4d43b1",
   "metadata": {},
   "outputs": [
    {
     "data": {
      "text/plain": [
       "0.9711375212224109"
      ]
     },
     "execution_count": 96,
     "metadata": {},
     "output_type": "execute_result"
    }
   ],
   "source": [
    "f1_score(y_val, y_val_lgb_out)"
   ]
  },
  {
   "cell_type": "markdown",
   "id": "b18ea4c9-677e-4aa5-91c8-21779b1fe825",
   "metadata": {},
   "source": [
    "## Score NN Model"
   ]
  },
  {
   "cell_type": "code",
   "execution_count": 101,
   "id": "9375e0ed-e619-4dba-90c2-35bf8a16fbfc",
   "metadata": {},
   "outputs": [],
   "source": [
    "test_flat = []\n",
    "for i in range(test_data.shape[0]):\n",
    "    x = test_data[i]\n",
    "    x = x.flatten()\n",
    "    test_flat.append(x)"
   ]
  },
  {
   "cell_type": "code",
   "execution_count": 102,
   "id": "6c144d41-f3ab-4024-8e36-5740558de7ae",
   "metadata": {},
   "outputs": [],
   "source": [
    "test_flat = np.array(test_flat)"
   ]
  },
  {
   "cell_type": "code",
   "execution_count": 103,
   "id": "73119044-d7bf-414a-a8b0-4a31360e955d",
   "metadata": {},
   "outputs": [],
   "source": [
    "test_flat = np.asarray(test_flat).astype('float32')"
   ]
  },
  {
   "cell_type": "code",
   "execution_count": 104,
   "id": "de3efa20-2ca8-4235-89e2-01b42ffb452c",
   "metadata": {},
   "outputs": [],
   "source": [
    "# x_test = scaler.transform(test_flat)"
   ]
  },
  {
   "cell_type": "code",
   "execution_count": 105,
   "id": "b858dedc-5e10-4662-b151-b5c7713ee183",
   "metadata": {},
   "outputs": [],
   "source": [
    "# scoring LGBM model\n",
    "y_pred = lgb_model.predict(test_flat)"
   ]
  },
  {
   "cell_type": "code",
   "execution_count": 106,
   "id": "137833be-5295-442b-86d5-5226979ab2ec",
   "metadata": {},
   "outputs": [],
   "source": [
    "y_pred_out = np.where(y_pred > 0.5, 1, 0)"
   ]
  },
  {
   "cell_type": "code",
   "execution_count": null,
   "id": "cf9118c8-a14c-4c16-85f4-b1728bdac90a",
   "metadata": {},
   "outputs": [],
   "source": []
  },
  {
   "cell_type": "code",
   "execution_count": null,
   "id": "d130fab1-d43c-494c-b99f-cdbc0b89c319",
   "metadata": {},
   "outputs": [],
   "source": []
  },
  {
   "cell_type": "code",
   "execution_count": 107,
   "id": "c0775621-eef0-4d08-9602-f2db07d39dfa",
   "metadata": {},
   "outputs": [],
   "source": [
    "sdf = pd.read_csv(\"./../sample_submission.csv\")"
   ]
  },
  {
   "cell_type": "code",
   "execution_count": 108,
   "id": "2ddb4493-ba3b-4896-9fd6-25a449896bac",
   "metadata": {},
   "outputs": [
    {
     "data": {
      "text/html": [
       "<div>\n",
       "<style scoped>\n",
       "    .dataframe tbody tr th:only-of-type {\n",
       "        vertical-align: middle;\n",
       "    }\n",
       "\n",
       "    .dataframe tbody tr th {\n",
       "        vertical-align: top;\n",
       "    }\n",
       "\n",
       "    .dataframe thead th {\n",
       "        text-align: right;\n",
       "    }\n",
       "</style>\n",
       "<table border=\"1\" class=\"dataframe\">\n",
       "  <thead>\n",
       "    <tr style=\"text-align: right;\">\n",
       "      <th></th>\n",
       "      <th>label</th>\n",
       "    </tr>\n",
       "  </thead>\n",
       "  <tbody>\n",
       "    <tr>\n",
       "      <th>0</th>\n",
       "      <td>1</td>\n",
       "    </tr>\n",
       "    <tr>\n",
       "      <th>1</th>\n",
       "      <td>0</td>\n",
       "    </tr>\n",
       "    <tr>\n",
       "      <th>2</th>\n",
       "      <td>0</td>\n",
       "    </tr>\n",
       "    <tr>\n",
       "      <th>3</th>\n",
       "      <td>0</td>\n",
       "    </tr>\n",
       "    <tr>\n",
       "      <th>4</th>\n",
       "      <td>1</td>\n",
       "    </tr>\n",
       "  </tbody>\n",
       "</table>\n",
       "</div>"
      ],
      "text/plain": [
       "   label\n",
       "0      1\n",
       "1      0\n",
       "2      0\n",
       "3      0\n",
       "4      1"
      ]
     },
     "execution_count": 108,
     "metadata": {},
     "output_type": "execute_result"
    }
   ],
   "source": [
    "sdf.head()"
   ]
  },
  {
   "cell_type": "code",
   "execution_count": 109,
   "id": "9d0ca30e-690b-489c-bd62-29f052c99b08",
   "metadata": {},
   "outputs": [],
   "source": [
    "sdf[\"label\"] = y_pred_out"
   ]
  },
  {
   "cell_type": "code",
   "execution_count": 110,
   "id": "49703e7c-722f-4f1d-b0c9-0d56787b285f",
   "metadata": {},
   "outputs": [],
   "source": [
    "sdf.to_csv(\"./assets/submission.csv\", index=False)"
   ]
  },
  {
   "cell_type": "code",
   "execution_count": null,
   "id": "3450d888-e41b-4973-b262-50e48d0f1093",
   "metadata": {},
   "outputs": [],
   "source": []
  }
 ],
 "metadata": {
  "kernelspec": {
   "display_name": "Python 3.8.10 64-bit ('tf2': conda)",
   "language": "python",
   "name": "python3810jvsc74a57bd04ef9f84e7781b2d07a78b4e1f1e04aeacca2827edfd216d06d0faeafdbe83991"
  },
  "language_info": {
   "codemirror_mode": {
    "name": "ipython",
    "version": 3
   },
   "file_extension": ".py",
   "mimetype": "text/x-python",
   "name": "python",
   "nbconvert_exporter": "python",
   "pygments_lexer": "ipython3",
   "version": "3.8.10"
  }
 },
 "nbformat": 4,
 "nbformat_minor": 5
}
