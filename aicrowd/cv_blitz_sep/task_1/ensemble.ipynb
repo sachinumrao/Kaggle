{
 "cells": [
  {
   "cell_type": "code",
   "execution_count": 44,
   "id": "1d971785-b5ae-4018-9879-82f68291d342",
   "metadata": {},
   "outputs": [],
   "source": [
    "import time\n",
    "import numpy as np\n",
    "import pandas as pd\n",
    "from sklearn.preprocessing import StandardScaler\n",
    "from sklearn.model_selection import train_test_split, StratifiedKFold\n",
    "from sklearn.metrics import roc_auc_score, f1_score, roc_curve, accuracy_score\n",
    "import matplotlib.pyplot as plt\n",
    "%matplotlib inline"
   ]
  },
  {
   "cell_type": "code",
   "execution_count": 2,
   "id": "03c53e30-9878-471c-a169-87fdc9ea820c",
   "metadata": {},
   "outputs": [],
   "source": [
    "from sklearn.neural_network import MLPClassifier"
   ]
  },
  {
   "cell_type": "code",
   "execution_count": 3,
   "id": "86a2e5cc-8eaa-4e0b-bb92-719e20981a2a",
   "metadata": {},
   "outputs": [],
   "source": [
    "from sklearn.ensemble import RandomForestClassifier"
   ]
  },
  {
   "cell_type": "code",
   "execution_count": 4,
   "id": "2910cb32-1649-4a1a-bd01-c50bfa0f1080",
   "metadata": {},
   "outputs": [],
   "source": [
    "from sklearn.linear_model import SGDClassifier"
   ]
  },
  {
   "cell_type": "code",
   "execution_count": 5,
   "id": "2d74403a-b64b-4e9c-9bc9-ba85aee59c17",
   "metadata": {},
   "outputs": [],
   "source": [
    "from lightgbm import LGBMClassifier"
   ]
  },
  {
   "cell_type": "code",
   "execution_count": 6,
   "id": "7a0d333d-14fa-442f-ab51-5302563e39ce",
   "metadata": {},
   "outputs": [],
   "source": [
    "from xgboost import XGBClassifier"
   ]
  },
  {
   "cell_type": "markdown",
   "id": "e8ac1688-24b9-4a6d-bf05-82d3036e5d92",
   "metadata": {},
   "source": [
    "# Load Data"
   ]
  },
  {
   "cell_type": "code",
   "execution_count": 7,
   "id": "e5e166c4-8ef2-4ac6-a424-4e64e92886f6",
   "metadata": {
    "jupyter": {
     "source_hidden": true
    },
    "tags": []
   },
   "outputs": [],
   "source": [
    "# import tensorflow as tf\n",
    "# from tensorflow.keras.models import Sequential \n",
    "# from tensorflow.keras.layers import Dense, Activation, LeakyReLU\n",
    "\n",
    "# scaler = StandardScaler()\n",
    "# scaler.fit(x_tr)\n",
    "# x_tr = scaler.transform(x_tr)\n",
    "# x_val = scaler.transform(x_val)\n",
    "\n",
    "# input_size = 1200\n",
    "# hidden1 = 64\n",
    "# hidden2 = 32\n",
    "# classes = 1\n",
    "\n",
    "# model = Sequential()     \n",
    "# model.add(Dense(hidden1, input_dim=input_size))\n",
    "# model.add(LeakyReLU(alpha=0.05))\n",
    "# model.add(Dense(hidden2))\n",
    "# model.add(LeakyReLU(alpha=0.05))\n",
    "# model.add(Dense(classes, activation='sigmoid'))\n",
    "\n",
    "# # Compilation\n",
    "# model.compile(loss=tf.keras.losses.BinaryCrossentropy(from_logits=False), \n",
    "#               metrics=['accuracy'], \n",
    "#               optimizer='adam')\n",
    "\n",
    "# model.summary()\n",
    "\n",
    "# batch_size = 32\n",
    "# epch = 20\n",
    "\n",
    "# history = model.fit(x_data, y_train, \n",
    "#                     validation_data=(x_val, y_val),\n",
    "#                     batch_size=batch_size,\n",
    "#                     epochs=epch,\n",
    "#                     verbose=1)\n",
    "\n",
    "# pdf = pd.DataFrame.from_dict(history.history)\n",
    "\n",
    "# plt.plot(pdf[\"loss\"], label=\"train_loss\")\n",
    "# plt.plot(pdf[\"val_loss\"], label=\"val_loss\")\n",
    "# plt.legend()\n",
    "# plt.show()\n",
    "\n",
    "# plt.plot(pdf[\"accuracy\"], label=\"train_accuracy\")\n",
    "# plt.plot(pdf[\"val_accuracy\"], label=\"val_accuracy\")\n",
    "# plt.legend()\n",
    "# plt.show()"
   ]
  },
  {
   "cell_type": "code",
   "execution_count": 8,
   "id": "c5841527-a24e-451e-aae1-2bbdc09ac4f3",
   "metadata": {},
   "outputs": [],
   "source": [
    "fname = \"./../data.npz\""
   ]
  },
  {
   "cell_type": "code",
   "execution_count": 9,
   "id": "1f40eb22-3439-4fdf-8e5b-46cb2657854e",
   "metadata": {},
   "outputs": [],
   "source": [
    "data = np.load(fname, allow_pickle=True)"
   ]
  },
  {
   "cell_type": "code",
   "execution_count": 10,
   "id": "41702838-2c28-45ce-8957-5c8279e92bfe",
   "metadata": {},
   "outputs": [],
   "source": [
    "train_data = data[\"train\"]"
   ]
  },
  {
   "cell_type": "code",
   "execution_count": 11,
   "id": "ef12035f-5448-4f4e-858d-dadc9c4a5208",
   "metadata": {},
   "outputs": [],
   "source": [
    "test_data = data[\"test\"]"
   ]
  },
  {
   "cell_type": "code",
   "execution_count": 12,
   "id": "c81b775b-b8bf-4091-8205-8c1a7e543c1f",
   "metadata": {},
   "outputs": [],
   "source": [
    "x_train = train_data[:, 0]\n",
    "y_train = train_data[:, 1]"
   ]
  },
  {
   "cell_type": "code",
   "execution_count": 13,
   "id": "7067242d-1d64-48fb-98d8-d56fb414f6da",
   "metadata": {},
   "outputs": [],
   "source": [
    "x_data = []\n",
    "for i in range(x_train.shape[0]):\n",
    "    x = x_train[i]\n",
    "    x = x.flatten()\n",
    "    x_data.append(x)"
   ]
  },
  {
   "cell_type": "code",
   "execution_count": 14,
   "id": "bbd996f8-58c5-4020-a18c-8adc94824abd",
   "metadata": {},
   "outputs": [],
   "source": [
    "x_data = np.array(x_data)"
   ]
  },
  {
   "cell_type": "code",
   "execution_count": 15,
   "id": "afdd35f0-9136-4073-bd09-3641a805a18f",
   "metadata": {},
   "outputs": [
    {
     "data": {
      "text/plain": [
       "(5000, 1200)"
      ]
     },
     "execution_count": 15,
     "metadata": {},
     "output_type": "execute_result"
    }
   ],
   "source": [
    "x_data.shape"
   ]
  },
  {
   "cell_type": "code",
   "execution_count": 16,
   "id": "bba22ac4-4afc-486c-a2b8-8d9119137b46",
   "metadata": {},
   "outputs": [],
   "source": [
    "x_data = np.asarray(x_data).astype('float32')"
   ]
  },
  {
   "cell_type": "code",
   "execution_count": 17,
   "id": "ca9d6be0-c00c-49e9-9a1d-1532ef7d1ad6",
   "metadata": {},
   "outputs": [],
   "source": [
    "y_train = np.asarray(y_train).astype('float32')"
   ]
  },
  {
   "cell_type": "markdown",
   "id": "55ba0769-7b4e-4a77-9c1b-e8124dea6659",
   "metadata": {},
   "source": [
    "## Load Test Data"
   ]
  },
  {
   "cell_type": "code",
   "execution_count": 18,
   "id": "f877540d-8f20-4b63-aa91-d399b787f065",
   "metadata": {},
   "outputs": [],
   "source": [
    "x_test = []\n",
    "for i in range(test_data.shape[0]):\n",
    "    x = test_data[i]\n",
    "    x = x.flatten()\n",
    "    x_test.append(x)\n",
    "    \n"
   ]
  },
  {
   "cell_type": "code",
   "execution_count": 19,
   "id": "0e8950da-be0a-4bea-ac46-d7a7e36fc096",
   "metadata": {},
   "outputs": [],
   "source": [
    "x_test = np.array(x_test)"
   ]
  },
  {
   "cell_type": "code",
   "execution_count": 20,
   "id": "c72f68b1-ca44-4001-9060-93cdd684d591",
   "metadata": {},
   "outputs": [],
   "source": [
    "x_test = np.asarray(x_test).astype('float32')"
   ]
  },
  {
   "cell_type": "code",
   "execution_count": null,
   "id": "9890af6d-be05-496b-aec5-58ed4136cd73",
   "metadata": {},
   "outputs": [],
   "source": []
  },
  {
   "cell_type": "markdown",
   "id": "502dbf6f-9e27-4dc9-bb16-976e2e1ebcdd",
   "metadata": {},
   "source": [
    "## Instantiate Models"
   ]
  },
  {
   "cell_type": "code",
   "execution_count": 21,
   "id": "c27a7b72-21ec-482e-8b06-91abcb3a5966",
   "metadata": {},
   "outputs": [],
   "source": [
    "mlp_model = MLPClassifier(hidden_layer_sizes=512, \n",
    "                          learning_rate=\"adaptive\", \n",
    "                          early_stopping=True,\n",
    "                          random_state=42)"
   ]
  },
  {
   "cell_type": "code",
   "execution_count": 22,
   "id": "90c3c7af-4c73-47c8-8c5b-10e13e62bc5c",
   "metadata": {},
   "outputs": [],
   "source": [
    "rf_model = RandomForestClassifier(n_estimators=300, max_depth=10, random_state=42)"
   ]
  },
  {
   "cell_type": "code",
   "execution_count": 23,
   "id": "c7954f9e-a1d8-4e27-9bdc-ee0d0acab0b8",
   "metadata": {},
   "outputs": [],
   "source": [
    "sgd_model = SGDClassifier(loss=\"log\", penalty=\"elasticnet\", random_state=42)"
   ]
  },
  {
   "cell_type": "code",
   "execution_count": 24,
   "id": "c89feba9-33d4-4025-930f-1dd53991e14f",
   "metadata": {},
   "outputs": [],
   "source": [
    "lgb_model = LGBMClassifier(learning_rate=0.01, n_estimators=300, reg_alpha=1.0, reg_lambda=0.5, random_state=42)"
   ]
  },
  {
   "cell_type": "code",
   "execution_count": 25,
   "id": "3ad58b32-fa78-4c40-97fc-077031df0680",
   "metadata": {},
   "outputs": [],
   "source": [
    "xgb_model = XGBClassifier()"
   ]
  },
  {
   "cell_type": "markdown",
   "id": "68c61380-606f-418e-a8d2-040be2dc718c",
   "metadata": {},
   "source": [
    "## Create Cross Validation Loop"
   ]
  },
  {
   "cell_type": "code",
   "execution_count": 47,
   "id": "56817080-bb60-4165-b3d2-7020a46b05bf",
   "metadata": {
    "tags": []
   },
   "outputs": [],
   "source": [
    "def cv_model(model, x_train , y_train, x_test, kfolds=5):\n",
    "    t1 = time.time()\n",
    "    accuracy = []\n",
    "    f1score = []\n",
    "    roc_auc = []\n",
    "    train_mat = np.empty((x_train.shape[0], kfolds))\n",
    "    test_mat = np.empty((x_test.shape[0], kfolds))\n",
    "    \n",
    "    kf = StratifiedKFold(n_splits=kfolds, shuffle=True, random_state=88)\n",
    "    counter = 0\n",
    "    for train_idx, val_idx in kf.split(x_train, y_train):\n",
    "        # get fold data\n",
    "        xt, xv = x_train[train_idx, :], x_train[val_idx, :]\n",
    "        yt, yv = y_train[train_idx], y_train[val_idx]\n",
    "        \n",
    "        # train model\n",
    "        model.fit(xt, yt)\n",
    "        \n",
    "        # evaluate model\n",
    "        y_pred = model.predict_proba(xv)[:,1]\n",
    "        \n",
    "        fold_roc = roc_auc_score(yv, y_pred)\n",
    "        \n",
    "        y_out = np.where(y_pred > 0.5, 1, 0)\n",
    "        fold_f1 = f1_score(yv, y_out)\n",
    "        fold_acc = accuracy_score(yv, y_out)\n",
    "        \n",
    "        accuracy.append(fold_acc)\n",
    "        f1score.append(fold_f1)\n",
    "        roc_auc.append(fold_roc)\n",
    "        \n",
    "        # create meta learner data\n",
    "        train_mat[:, counter] = model.predict_proba(x_train)[:,1]\n",
    "        test_mat[:, counter] = model.predict_proba(x_test)[:,1]\n",
    "        \n",
    "        counter += 1\n",
    "        \n",
    "    meta_train_data = np.mean(train_mat, axis=1, keepdims=True)\n",
    "    meta_test_data = np.mean(test_mat, axis=1, keepdims=True)\n",
    "    avg_acc = np.mean(accuracy)\n",
    "    avg_f1 = np.mean(f1score)\n",
    "    avg_roc = np.mean(roc_auc)\n",
    "    \n",
    "    t2 = time.time()\n",
    "    \n",
    "    return meta_train_data, meta_test_data, avg_acc, avg_f1, avg_roc, t2-t1"
   ]
  },
  {
   "cell_type": "code",
   "execution_count": 39,
   "id": "2226c3e9-2051-4269-8ff4-f0361e4e4442",
   "metadata": {},
   "outputs": [],
   "source": [
    "models = {\n",
    "    \"mlp\": mlp_model,\n",
    "    \"rf\": rf_model,\n",
    "    \"sgd\": sgd_model,\n",
    "    \"lgb\": lgb_model,\n",
    "    \"xgb\": xgb_model\n",
    "}"
   ]
  },
  {
   "cell_type": "code",
   "execution_count": 40,
   "id": "7b00f75a-9593-4284-b81d-4142c92106e3",
   "metadata": {},
   "outputs": [],
   "source": [
    "meta_train_data = np.empty((x_data.shape[0], len(models)))"
   ]
  },
  {
   "cell_type": "code",
   "execution_count": 41,
   "id": "5784f15d-8ff7-41f5-8498-263a4b463059",
   "metadata": {},
   "outputs": [],
   "source": [
    "meta_test_data = np.empty((x_test.shape[0], len(models)))"
   ]
  },
  {
   "cell_type": "code",
   "execution_count": 51,
   "id": "51c63697-018b-4dd5-bc83-42ebd342b578",
   "metadata": {},
   "outputs": [
    {
     "name": "stdout",
     "output_type": "stream",
     "text": [
      "Model Name:  mlp\n",
      "Accuracy:  0.9818\n",
      "F1-Score:  0.9693646906033042\n",
      "ROC-AUC:  0.98866\n",
      "Time Taken:  13.126729965209961\n",
      "--------------------------------------------------------------------------------\n",
      "Model Name:  rf\n",
      "Accuracy:  0.9846\n",
      "F1-Score:  0.9739492686283591\n",
      "ROC-AUC:  0.9953238095238095\n",
      "Time Taken:  10.770376920700073\n",
      "--------------------------------------------------------------------------------\n",
      "Model Name:  sgd\n",
      "Accuracy:  0.9763999999999999\n",
      "F1-Score:  0.9595633209178972\n",
      "ROC-AUC:  0.9700014285714286\n",
      "Time Taken:  3.7644460201263428\n",
      "--------------------------------------------------------------------------------\n",
      "Model Name:  lgb\n",
      "Accuracy:  0.982\n",
      "F1-Score:  0.9695451761334475\n",
      "ROC-AUC:  0.993535238095238\n",
      "Time Taken:  10.30993103981018\n",
      "--------------------------------------------------------------------------------\n",
      "[20:18:59] WARNING: /private/var/folders/ct/rg5qx9cs1gjbn4y6sfy6v3480000gn/T/pip-install-lpij8pox/xgboost_e54c9eda68bf49f194149457b1a837c7/build/temp.macosx-11.0-arm64-3.8/xgboost/src/learner.cc:1095: Starting in XGBoost 1.3.0, the default evaluation metric used with the objective 'binary:logistic' was changed from 'error' to 'logloss'. Explicitly set eval_metric if you'd like to restore the old behavior.\n"
     ]
    },
    {
     "name": "stderr",
     "output_type": "stream",
     "text": [
      "/Users/sachin/miniforge3/envs/tf2/lib/python3.8/site-packages/xgboost/sklearn.py:1146: UserWarning: The use of label encoder in XGBClassifier is deprecated and will be removed in a future release. To remove this warning, do the following: 1) Pass option use_label_encoder=False when constructing XGBClassifier object; and 2) Encode your labels (y) as integers starting with 0, i.e. 0, 1, 2, ..., [num_class - 1].\n",
      "  warnings.warn(label_encoder_deprecation_msg, UserWarning)\n",
      "/Users/sachin/miniforge3/envs/tf2/lib/python3.8/site-packages/xgboost/sklearn.py:1146: UserWarning: The use of label encoder in XGBClassifier is deprecated and will be removed in a future release. To remove this warning, do the following: 1) Pass option use_label_encoder=False when constructing XGBClassifier object; and 2) Encode your labels (y) as integers starting with 0, i.e. 0, 1, 2, ..., [num_class - 1].\n",
      "  warnings.warn(label_encoder_deprecation_msg, UserWarning)\n"
     ]
    },
    {
     "name": "stdout",
     "output_type": "stream",
     "text": [
      "[20:19:01] WARNING: /private/var/folders/ct/rg5qx9cs1gjbn4y6sfy6v3480000gn/T/pip-install-lpij8pox/xgboost_e54c9eda68bf49f194149457b1a837c7/build/temp.macosx-11.0-arm64-3.8/xgboost/src/learner.cc:1095: Starting in XGBoost 1.3.0, the default evaluation metric used with the objective 'binary:logistic' was changed from 'error' to 'logloss'. Explicitly set eval_metric if you'd like to restore the old behavior.\n"
     ]
    },
    {
     "name": "stderr",
     "output_type": "stream",
     "text": [
      "/Users/sachin/miniforge3/envs/tf2/lib/python3.8/site-packages/xgboost/sklearn.py:1146: UserWarning: The use of label encoder in XGBClassifier is deprecated and will be removed in a future release. To remove this warning, do the following: 1) Pass option use_label_encoder=False when constructing XGBClassifier object; and 2) Encode your labels (y) as integers starting with 0, i.e. 0, 1, 2, ..., [num_class - 1].\n",
      "  warnings.warn(label_encoder_deprecation_msg, UserWarning)\n"
     ]
    },
    {
     "name": "stdout",
     "output_type": "stream",
     "text": [
      "[20:19:04] WARNING: /private/var/folders/ct/rg5qx9cs1gjbn4y6sfy6v3480000gn/T/pip-install-lpij8pox/xgboost_e54c9eda68bf49f194149457b1a837c7/build/temp.macosx-11.0-arm64-3.8/xgboost/src/learner.cc:1095: Starting in XGBoost 1.3.0, the default evaluation metric used with the objective 'binary:logistic' was changed from 'error' to 'logloss'. Explicitly set eval_metric if you'd like to restore the old behavior.\n"
     ]
    },
    {
     "name": "stderr",
     "output_type": "stream",
     "text": [
      "/Users/sachin/miniforge3/envs/tf2/lib/python3.8/site-packages/xgboost/sklearn.py:1146: UserWarning: The use of label encoder in XGBClassifier is deprecated and will be removed in a future release. To remove this warning, do the following: 1) Pass option use_label_encoder=False when constructing XGBClassifier object; and 2) Encode your labels (y) as integers starting with 0, i.e. 0, 1, 2, ..., [num_class - 1].\n",
      "  warnings.warn(label_encoder_deprecation_msg, UserWarning)\n"
     ]
    },
    {
     "name": "stdout",
     "output_type": "stream",
     "text": [
      "[20:19:06] WARNING: /private/var/folders/ct/rg5qx9cs1gjbn4y6sfy6v3480000gn/T/pip-install-lpij8pox/xgboost_e54c9eda68bf49f194149457b1a837c7/build/temp.macosx-11.0-arm64-3.8/xgboost/src/learner.cc:1095: Starting in XGBoost 1.3.0, the default evaluation metric used with the objective 'binary:logistic' was changed from 'error' to 'logloss'. Explicitly set eval_metric if you'd like to restore the old behavior.\n"
     ]
    },
    {
     "name": "stderr",
     "output_type": "stream",
     "text": [
      "/Users/sachin/miniforge3/envs/tf2/lib/python3.8/site-packages/xgboost/sklearn.py:1146: UserWarning: The use of label encoder in XGBClassifier is deprecated and will be removed in a future release. To remove this warning, do the following: 1) Pass option use_label_encoder=False when constructing XGBClassifier object; and 2) Encode your labels (y) as integers starting with 0, i.e. 0, 1, 2, ..., [num_class - 1].\n",
      "  warnings.warn(label_encoder_deprecation_msg, UserWarning)\n"
     ]
    },
    {
     "name": "stdout",
     "output_type": "stream",
     "text": [
      "[20:19:09] WARNING: /private/var/folders/ct/rg5qx9cs1gjbn4y6sfy6v3480000gn/T/pip-install-lpij8pox/xgboost_e54c9eda68bf49f194149457b1a837c7/build/temp.macosx-11.0-arm64-3.8/xgboost/src/learner.cc:1095: Starting in XGBoost 1.3.0, the default evaluation metric used with the objective 'binary:logistic' was changed from 'error' to 'logloss'. Explicitly set eval_metric if you'd like to restore the old behavior.\n",
      "Model Name:  xgb\n",
      "Accuracy:  0.9832000000000001\n",
      "F1-Score:  0.9716348139846023\n",
      "ROC-AUC:  0.9945304761904762\n",
      "Time Taken:  12.838800191879272\n",
      "--------------------------------------------------------------------------------\n"
     ]
    }
   ],
   "source": [
    "counter = 0\n",
    "for model_name, model in models.items():\n",
    "    mtr, mts, acc, f1, roc, dt = cv_model(model, x_data, y_train, x_test)\n",
    "    meta_train_data[:, counter] = mtr[:,0]\n",
    "    meta_test_data[:, counter] = mts[:,0]\n",
    "    \n",
    "    counter += 1\n",
    "    \n",
    "    print(\"Model Name: \", model_name)\n",
    "    print(\"Accuracy: \", acc)\n",
    "    print(\"F1-Score: \", f1)\n",
    "    print(\"ROC-AUC: \", roc)\n",
    "    print(\"Time Taken: \", dt)\n",
    "    print(\"--\"*40)"
   ]
  },
  {
   "cell_type": "markdown",
   "id": "c87f4f98-91d5-490d-a44c-fccfb7e9d9f8",
   "metadata": {},
   "source": [
    "## Rough model testing"
   ]
  },
  {
   "cell_type": "code",
   "execution_count": 72,
   "id": "29af3fbe-0932-4296-b511-fe1123eb9ea6",
   "metadata": {},
   "outputs": [],
   "source": [
    "# dummy_x = x_data[:10, :]\n",
    "# dummy_y = y_train[:5]"
   ]
  },
  {
   "cell_type": "code",
   "execution_count": 73,
   "id": "186c734b-2f92-4061-a9b3-4c1bee216158",
   "metadata": {},
   "outputs": [],
   "source": [
    "# dummy_y.shape"
   ]
  },
  {
   "cell_type": "code",
   "execution_count": 74,
   "id": "da91c816-9e2b-4018-9040-08207caf04ee",
   "metadata": {},
   "outputs": [],
   "source": [
    "# mlp_model.fit(x_data, y_train)"
   ]
  },
  {
   "cell_type": "code",
   "execution_count": 75,
   "id": "5e1d1d20-4503-44de-860d-1fcc0d57629a",
   "metadata": {},
   "outputs": [],
   "source": [
    "# mlp_model.predict_proba(x_test[:5])"
   ]
  },
  {
   "cell_type": "code",
   "execution_count": 76,
   "id": "744c2f53-8536-4da8-9249-17e109ac6ebd",
   "metadata": {},
   "outputs": [],
   "source": [
    "# lgb_model.predict(x_test[:5])"
   ]
  },
  {
   "cell_type": "markdown",
   "id": "bb10daaf-d4df-48d3-9c9c-8aa2dcebad3a",
   "metadata": {},
   "source": [
    "## Meta Learner Model"
   ]
  },
  {
   "cell_type": "code",
   "execution_count": 52,
   "id": "f28a8af2-d855-41cf-b4f2-fc9e517cc507",
   "metadata": {},
   "outputs": [],
   "source": [
    "meta_model = XGBClassifier()"
   ]
  },
  {
   "cell_type": "code",
   "execution_count": 53,
   "id": "b397a2b6-abc0-4052-bda2-03bb3ec7f0b9",
   "metadata": {},
   "outputs": [
    {
     "name": "stdout",
     "output_type": "stream",
     "text": [
      "[20:20:13] WARNING: /private/var/folders/ct/rg5qx9cs1gjbn4y6sfy6v3480000gn/T/pip-install-lpij8pox/xgboost_e54c9eda68bf49f194149457b1a837c7/build/temp.macosx-11.0-arm64-3.8/xgboost/src/learner.cc:1095: Starting in XGBoost 1.3.0, the default evaluation metric used with the objective 'binary:logistic' was changed from 'error' to 'logloss'. Explicitly set eval_metric if you'd like to restore the old behavior.\n"
     ]
    },
    {
     "name": "stderr",
     "output_type": "stream",
     "text": [
      "/Users/sachin/miniforge3/envs/tf2/lib/python3.8/site-packages/xgboost/sklearn.py:1146: UserWarning: The use of label encoder in XGBClassifier is deprecated and will be removed in a future release. To remove this warning, do the following: 1) Pass option use_label_encoder=False when constructing XGBClassifier object; and 2) Encode your labels (y) as integers starting with 0, i.e. 0, 1, 2, ..., [num_class - 1].\n",
      "  warnings.warn(label_encoder_deprecation_msg, UserWarning)\n"
     ]
    },
    {
     "data": {
      "text/plain": [
       "XGBClassifier(base_score=0.5, booster='gbtree', colsample_bylevel=1,\n",
       "              colsample_bynode=1, colsample_bytree=1, gamma=0, gpu_id=-1,\n",
       "              importance_type='gain', interaction_constraints='',\n",
       "              learning_rate=0.300000012, max_delta_step=0, max_depth=6,\n",
       "              min_child_weight=1, missing=nan, monotone_constraints='()',\n",
       "              n_estimators=100, n_jobs=8, num_parallel_tree=1, random_state=0,\n",
       "              reg_alpha=0, reg_lambda=1, scale_pos_weight=1, subsample=1,\n",
       "              tree_method='exact', validate_parameters=1, verbosity=None)"
      ]
     },
     "execution_count": 53,
     "metadata": {},
     "output_type": "execute_result"
    }
   ],
   "source": [
    "meta_model.fit(meta_train_data, y_train)"
   ]
  },
  {
   "cell_type": "code",
   "execution_count": 54,
   "id": "2d6b7938-1376-4faf-ad1f-b9294c19c428",
   "metadata": {},
   "outputs": [],
   "source": [
    "y_preds = meta_model.predict(meta_test_data)"
   ]
  },
  {
   "cell_type": "code",
   "execution_count": null,
   "id": "b7f69dbe-47c2-47d1-9260-f62008ae30f7",
   "metadata": {},
   "outputs": [],
   "source": []
  },
  {
   "cell_type": "code",
   "execution_count": 60,
   "id": "479ccedc-0e7e-4e5d-b934-5b736c6c9549",
   "metadata": {},
   "outputs": [],
   "source": [
    "# ensemble solution\n",
    "y_preds = np.mean(meta_test_data, axis=1)"
   ]
  },
  {
   "cell_type": "code",
   "execution_count": 61,
   "id": "137833be-5295-442b-86d5-5226979ab2ec",
   "metadata": {},
   "outputs": [],
   "source": [
    "y_pred_out = np.where(y_preds > 0.5, 1, 0)"
   ]
  },
  {
   "cell_type": "code",
   "execution_count": 62,
   "id": "c0775621-eef0-4d08-9602-f2db07d39dfa",
   "metadata": {},
   "outputs": [],
   "source": [
    "sdf = pd.read_csv(\"./../sample_submission.csv\")"
   ]
  },
  {
   "cell_type": "code",
   "execution_count": 63,
   "id": "2ddb4493-ba3b-4896-9fd6-25a449896bac",
   "metadata": {},
   "outputs": [
    {
     "data": {
      "text/html": [
       "<div>\n",
       "<style scoped>\n",
       "    .dataframe tbody tr th:only-of-type {\n",
       "        vertical-align: middle;\n",
       "    }\n",
       "\n",
       "    .dataframe tbody tr th {\n",
       "        vertical-align: top;\n",
       "    }\n",
       "\n",
       "    .dataframe thead th {\n",
       "        text-align: right;\n",
       "    }\n",
       "</style>\n",
       "<table border=\"1\" class=\"dataframe\">\n",
       "  <thead>\n",
       "    <tr style=\"text-align: right;\">\n",
       "      <th></th>\n",
       "      <th>label</th>\n",
       "    </tr>\n",
       "  </thead>\n",
       "  <tbody>\n",
       "    <tr>\n",
       "      <th>0</th>\n",
       "      <td>1</td>\n",
       "    </tr>\n",
       "    <tr>\n",
       "      <th>1</th>\n",
       "      <td>0</td>\n",
       "    </tr>\n",
       "    <tr>\n",
       "      <th>2</th>\n",
       "      <td>0</td>\n",
       "    </tr>\n",
       "    <tr>\n",
       "      <th>3</th>\n",
       "      <td>0</td>\n",
       "    </tr>\n",
       "    <tr>\n",
       "      <th>4</th>\n",
       "      <td>1</td>\n",
       "    </tr>\n",
       "  </tbody>\n",
       "</table>\n",
       "</div>"
      ],
      "text/plain": [
       "   label\n",
       "0      1\n",
       "1      0\n",
       "2      0\n",
       "3      0\n",
       "4      1"
      ]
     },
     "execution_count": 63,
     "metadata": {},
     "output_type": "execute_result"
    }
   ],
   "source": [
    "sdf.head()"
   ]
  },
  {
   "cell_type": "code",
   "execution_count": 64,
   "id": "9d0ca30e-690b-489c-bd62-29f052c99b08",
   "metadata": {},
   "outputs": [],
   "source": [
    "sdf[\"label\"] = y_pred_out"
   ]
  },
  {
   "cell_type": "code",
   "execution_count": 65,
   "id": "49703e7c-722f-4f1d-b0c9-0d56787b285f",
   "metadata": {},
   "outputs": [],
   "source": [
    "sdf.to_csv(\"./assets/submission.csv\", index=False)"
   ]
  },
  {
   "cell_type": "code",
   "execution_count": null,
   "id": "3450d888-e41b-4973-b262-50e48d0f1093",
   "metadata": {},
   "outputs": [],
   "source": []
  }
 ],
 "metadata": {
  "kernelspec": {
   "display_name": "Python 3.8.10 64-bit ('tf2': conda)",
   "language": "python",
   "name": "python3810jvsc74a57bd04ef9f84e7781b2d07a78b4e1f1e04aeacca2827edfd216d06d0faeafdbe83991"
  },
  "language_info": {
   "codemirror_mode": {
    "name": "ipython",
    "version": 3
   },
   "file_extension": ".py",
   "mimetype": "text/x-python",
   "name": "python",
   "nbconvert_exporter": "python",
   "pygments_lexer": "ipython3",
   "version": "3.8.10"
  }
 },
 "nbformat": 4,
 "nbformat_minor": 5
}
