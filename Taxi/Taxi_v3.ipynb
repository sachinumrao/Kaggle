{
 "cells": [
  {
   "cell_type": "code",
   "execution_count": 3,
   "metadata": {},
   "outputs": [],
   "source": [
    "import datetime\n",
    "import lightgbm as lgb\n",
    "import numpy as np\n",
    "import os\n",
    "import pandas as pd\n",
    "import random\n",
    "from sklearn.model_selection import train_test_split\n",
    "import time \n",
    "random_seed = 0\n",
    "random.seed(random_seed)\n",
    "np.random.seed(random_seed)"
   ]
  },
  {
   "cell_type": "code",
   "execution_count": 4,
   "metadata": {},
   "outputs": [],
   "source": [
    "# Load data\n",
    "train = pd.read_csv('train.csv')\n",
    "test = pd.read_csv('test.csv')\n",
    "ss = pd.read_csv('sample_submission.csv')"
   ]
  },
  {
   "cell_type": "code",
   "execution_count": 5,
   "metadata": {},
   "outputs": [],
   "source": [
    "def haversine(x1,x2):\n",
    "    from math import sin, cos, sqrt, atan2, radians\n",
    "\n",
    "    # approximate radius of earth in km\n",
    "    R = 6373.0\n",
    "\n",
    "    lat1 = abs(x1[0])\n",
    "    lon1 = abs(x1[1])\n",
    "    lat2 = abs(x2[0])\n",
    "    lon2 = abs(x2[1])\n",
    "\n",
    "    dlon = lon2 - lon1\n",
    "    dlat = lat2 - lat1\n",
    "\n",
    "    a = sin(dlat / 2)**2 + cos(lat1) * cos(lat2) * sin(dlon / 2)**2\n",
    "    c = 2 * atan2(sqrt(a), sqrt(1 - a))\n",
    "\n",
    "    dist = R * c\n",
    "    \n",
    "    return dist"
   ]
  },
  {
   "cell_type": "code",
   "execution_count": 6,
   "metadata": {},
   "outputs": [],
   "source": [
    "def rmsle(y_true, y_pred):\n",
    "    assert len(y_true) == len(y_pred)\n",
    "    return np.sqrt(np.mean(np.power(np.log1p(y_true + 1) - np.log1p(y_pred + 1), 2)))"
   ]
  },
  {
   "cell_type": "code",
   "execution_count": 7,
   "metadata": {},
   "outputs": [],
   "source": [
    "def extract_features(df):\n",
    "    df['hdistance'] = df.apply(lambda r: haversine((r['pickup_latitude'],r['pickup_longitude']),(r['dropoff_latitude'], r['dropoff_longitude'])), axis=1)\n",
    "    df['distance'] = np.sqrt(np.power(df['dropoff_longitude'] - df['pickup_longitude'], 2) + np.power(df['dropoff_latitude'] - df['pickup_latitude'], 2))\n",
    "    df['log_distance'] = np.log(df['distance'])\n",
    "    df['month'] = df['pickup_datetime'].apply(lambda x: int(x.split(' ')[0].split('-')[1]))\n",
    "    df['day'] = df['pickup_datetime'].apply(lambda x: int(x.split(' ')[0].split('-')[2]))\n",
    "    df['hour'] = df['pickup_datetime'].apply(lambda x: int(x.split(' ')[1].split(':')[0]))\n",
    "    df['minutes'] = df['pickup_datetime'].apply(lambda x: int(x.split(' ')[1].split(':')[1]))\n",
    "    df['is_weekend'] = ((df.pickup_datetime.astype('datetime64[ns]').dt.dayofweek) // 4 == 1).astype(float)\n",
    "    df['weekday'] = df.pickup_datetime.astype('datetime64[ns]').dt.dayofweek\n",
    "    df['is_holyday'] = df.apply(lambda row: 1 if (row['month']==1 and row['day']==1) or (row['month']==7 and row['day']==4) or (row['month']==11 and row['day']==11) or (row['month']==12 and row['day']==25) or (row['month']==1 and row['day'] >= 15 and row['day'] <= 21 and row['weekday'] == 0) or (row['month']==2 and row['day'] >= 15 and row['day'] <= 21 and row['weekday'] == 0) or (row['month']==5 and row['day'] >= 25 and row['day'] <= 31 and row['weekday'] == 0) or (row['month']==9 and row['day'] >= 1 and row['day'] <= 7 and row['weekday'] == 0) or (row['month']==10 and row['day'] >= 8 and row['day'] <= 14 and row['weekday'] == 0) or (row['month']==11 and row['day'] >= 22 and row['day'] <= 28 and row['weekday'] == 3) else 0, axis=1)\n",
    "    df['is_day_before_holyday'] = df.apply(lambda row: 1 if (row['month']==12 and row['day']==31) or (row['month']==7 and row['day']==3) or (row['month']==11 and row['day']==10) or (row['month']==12 and row['day']==24) or (row['month']==1 and row['day'] >= 14 and row['day'] <= 20 and row['weekday'] == 6) or (row['month']==2 and row['day'] >= 14 and row['day'] <= 20 and row['weekday'] == 6) or (row['month']==5 and row['day'] >= 24 and row['day'] <= 30 and row['weekday'] == 6) or ((row['month']==9 and row['day'] >= 1 and row['day'] <= 6) or (row['month']==8 and row['day'] == 31) and row['weekday'] == 6) or (row['month']==10 and row['day'] >= 7 and row['day'] <= 13 and row['weekday'] == 6) or (row['month']==11 and row['day'] >= 21 and row['day'] <= 27 and row['weekday'] == 2) else 0, axis=1)\n",
    "    df['store_and_fwd_flag'] = df['store_and_fwd_flag'].map(lambda x: 0 if x =='N' else 1)\n",
    "    df.drop('day', axis=1, inplace=True)"
   ]
  },
  {
   "cell_type": "code",
   "execution_count": 8,
   "metadata": {},
   "outputs": [
    {
     "name": "stdout",
     "output_type": "stream",
     "text": [
      "Extracting train features\n"
     ]
    },
    {
     "name": "stderr",
     "output_type": "stream",
     "text": [
      "/home/sachin/anaconda3/lib/python3.6/site-packages/ipykernel_launcher.py:4: RuntimeWarning: divide by zero encountered in log\n",
      "  after removing the cwd from sys.path.\n"
     ]
    },
    {
     "name": "stdout",
     "output_type": "stream",
     "text": [
      "Extracting test features\n",
      "Time Taken:  268.51502299308777\n"
     ]
    }
   ],
   "source": [
    "t1 = time.time()\n",
    "# Extract features\n",
    "print('Extracting train features')\n",
    "extract_features(train)\n",
    "print('Extracting test features')\n",
    "extract_features(test)\n",
    "\n",
    "train.head()\n",
    "t2 = time.time()\n",
    "print(\"Time Taken: \",t2-t1)"
   ]
  },
  {
   "cell_type": "code",
   "execution_count": 9,
   "metadata": {},
   "outputs": [
    {
     "name": "stdout",
     "output_type": "stream",
     "text": [
      "X.shape = (1458644, 16)\n",
      "y.shape = (1458644,)\n",
      "X_test.shape = (625134, 16)\n"
     ]
    }
   ],
   "source": [
    "# Prepare data\n",
    "X = np.array(train.drop(['id', 'pickup_datetime', 'dropoff_datetime', 'store_and_fwd_flag', 'trip_duration'], axis=1))\n",
    "y = np.log(train['trip_duration'].values+1)\n",
    "median_trip_duration = np.median(train['trip_duration'].values)\n",
    "\n",
    "print('X.shape = ' + str(X.shape))\n",
    "print('y.shape = ' + str(y.shape))\n",
    "\n",
    "X_test = np.array(test.drop(['id', 'pickup_datetime', 'store_and_fwd_flag'], axis=1))\n",
    "\n",
    "print('X_test.shape = ' + str(X_test.shape))"
   ]
  },
  {
   "cell_type": "code",
   "execution_count": 13,
   "metadata": {},
   "outputs": [
    {
     "name": "stdout",
     "output_type": "stream",
     "text": [
      "Training and making predictions\n",
      "RMSLE = 0.4197975070150431\n",
      "RMSLE = 0.4170133398899779\n",
      "RMSLE = 0.41514868377328495\n",
      "RMSLE = 0.420055171748733\n",
      "RMSLE = 0.4183415336156974\n",
      "RMSLE = 0.41826054567877763\n",
      "RMSLE = 0.41608759119849986\n",
      "RMSLE = 0.4223613125232363\n",
      "RMSLE = 0.4172726874972868\n",
      "RMSLE = 0.413067528873883\n",
      "Mean RMSLE = 0.417740590181442 +/- 0.0025220322904568188\n",
      "Time Taken:  38.0350456237793\n"
     ]
    }
   ],
   "source": [
    "t1 = time.time()\n",
    "print('Training and making predictions')\n",
    "params = {\n",
    "    'boosting_type': 'gbdt',\n",
    "    'max_depth': 7,\n",
    "    'learning_rate': 0.05,\n",
    "    'num_leaves': 31,\n",
    "    'min_data_in_leaf': 20,\n",
    "    'subsample': 0.8,\n",
    "    'colsample_bytree': 0.8,\n",
    "    'reg_lambda': 0.5,\n",
    "    'reg_alpha': 1.5,\n",
    "    'objective': 'regression',\n",
    "    'metric': 'rmsle',\n",
    "    'learning_rate': 0.1,\n",
    "    'verbose': 0, \n",
    "    }\n",
    "n_estimators = 100\n",
    "\n",
    "n_iters = 10\n",
    "preds_buf = []\n",
    "err_buf = []\n",
    "for i in range(n_iters): \n",
    "    x_train, x_valid, y_train, y_valid = train_test_split(X, y, test_size=0.10, random_state=i)\n",
    "    d_train = lgb.Dataset(x_train, label=y_train)\n",
    "    d_valid = lgb.Dataset(x_valid, label=y_valid)\n",
    "    watchlist = [d_valid]\n",
    "\n",
    "    model = lgb.train(params, d_train, n_estimators, watchlist, verbose_eval=1)\n",
    "\n",
    "    preds = model.predict(x_valid)\n",
    "    preds = np.exp(preds)\n",
    "    preds[preds < 0] = median_trip_duration\n",
    "    err = rmsle(np.exp(y_valid), preds)\n",
    "    err_buf.append(err)\n",
    "    print('RMSLE = ' + str(err))\n",
    "    \n",
    "    preds = model.predict(X_test)\n",
    "    preds = np.exp(preds)\n",
    "    preds[preds < 0] = median_trip_duration\n",
    "    preds_buf.append(preds)\n",
    "\n",
    "print('Mean RMSLE = ' + str(np.mean(err_buf)) + ' +/- ' + str(np.std(err_buf)))\n",
    "# Average predictions\n",
    "preds = np.mean(preds_buf, axis=0)\n",
    "t2 = time.time()\n",
    "print(\"Time Taken: \",t2-t1)"
   ]
  },
  {
   "cell_type": "code",
   "execution_count": 12,
   "metadata": {},
   "outputs": [],
   "source": [
    "# Prepare submission\n",
    "subm = pd.DataFrame()\n",
    "subm['id'] = test.id.values\n",
    "subm['trip_duration'] = preds\n",
    "subm.to_csv('submission_lgbm.csv', index=False)"
   ]
  },
  {
   "cell_type": "code",
   "execution_count": null,
   "metadata": {},
   "outputs": [],
   "source": []
  }
 ],
 "metadata": {
  "kernelspec": {
   "display_name": "Python 3",
   "language": "python",
   "name": "python3"
  },
  "language_info": {
   "codemirror_mode": {
    "name": "ipython",
    "version": 3
   },
   "file_extension": ".py",
   "mimetype": "text/x-python",
   "name": "python",
   "nbconvert_exporter": "python",
   "pygments_lexer": "ipython3",
   "version": "3.6.5"
  }
 },
 "nbformat": 4,
 "nbformat_minor": 2
}
